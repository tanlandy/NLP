{
 "cells": [
  {
   "attachments": {},
   "cell_type": "markdown",
   "metadata": {},
   "source": [
    "# 标量\n",
    "标量由普通小写字母表示，例如 $x$，$y$，$z$。\n",
    "\n",
    "$\\mathbb{R}$ 为连续实数空间。\n",
    "$x \\in \\mathbb{R}$ 表示 $x$ 是一个实值标量的正式方式。\n",
    "\n",
    "标量由只有一个元素的张量表示。"
   ]
  },
  {
   "cell_type": "code",
   "execution_count": 1,
   "metadata": {},
   "outputs": [
    {
     "data": {
      "text/plain": [
       "(tensor(5.), tensor(6.), tensor(1.5000), tensor(9.))"
      ]
     },
     "execution_count": 1,
     "metadata": {},
     "output_type": "execute_result"
    }
   ],
   "source": [
    "import torch\n",
    "\n",
    "x = torch.tensor(3.0)\n",
    "y = torch.tensor(2.0)\n",
    "\n",
    "x + y, x * y, x / y, x**y"
   ]
  },
  {
   "attachments": {},
   "cell_type": "markdown",
   "metadata": {},
   "source": [
    "# 向量\n",
    "\n",
    "向量可以视作由标量值组成的列表。这些标量值被称为向量的元素。\n",
    "\n",
    "向量通常记为粗体小写字母，例如 $\\mathbf{x}$，$\\mathbf{y}$，$\\mathbf{z}$。\n",
    "\n",
    "向量一般由一维张量表示\n",
    "\n"
   ]
  },
  {
   "cell_type": "code",
   "execution_count": 6,
   "metadata": {},
   "outputs": [
    {
     "data": {
      "text/plain": [
       "tensor([0, 1, 2, 3])"
      ]
     },
     "execution_count": 6,
     "metadata": {},
     "output_type": "execute_result"
    }
   ],
   "source": [
    "x = torch.arange(4)\n",
    "x"
   ]
  },
  {
   "cell_type": "code",
   "execution_count": 7,
   "metadata": {},
   "outputs": [
    {
     "data": {
      "text/plain": [
       "tensor(3)"
      ]
     },
     "execution_count": 7,
     "metadata": {},
     "output_type": "execute_result"
    }
   ],
   "source": [
    "# 可以通过张量的索引来访问元素\n",
    "x[3]"
   ]
  },
  {
   "attachments": {},
   "cell_type": "markdown",
   "metadata": {},
   "source": [
    "## 长度、维度和形状\n",
    "数学表示法中，一个向量 $\\mathbf{x}$ 由n个实值标量组成，可以将其表示为 $\\mathbf{x} \\in \\mathbb{R}^n$。\n",
    "\n",
    "向量 $\\mathbf{x}$ 中的元素可以通过索引访问，例如 $\\mathbf{x}$ 中第 $i$ 个元素表示为 $x_i$。\n",
    "\n",
    "向量的长度称为向量的 *维度* (dimension)，是向量元素的数量。在代码中，向量的长度可以通过 Python 中的 `len()` 函数来访问。\n",
    "\n",
    "当用张量表示一个向量（只有一个轴）时，我们也可以通过.shape属性访问向量的长度。 形状（shape）是一个元素组，列出了张量沿每个轴的长度（维数）。 对于只有一个轴的张量，形状只有一个元素"
   ]
  },
  {
   "cell_type": "code",
   "execution_count": 9,
   "metadata": {},
   "outputs": [
    {
     "name": "stdout",
     "output_type": "stream",
     "text": [
      "4\n"
     ]
    },
    {
     "data": {
      "text/plain": [
       "torch.Size([4])"
      ]
     },
     "execution_count": 9,
     "metadata": {},
     "output_type": "execute_result"
    }
   ],
   "source": [
    "print(len(x))\n",
    "x.shape"
   ]
  }
 ],
 "metadata": {
  "kernelspec": {
   "display_name": "transformers",
   "language": "python",
   "name": "python3"
  },
  "language_info": {
   "codemirror_mode": {
    "name": "ipython",
    "version": 3
   },
   "file_extension": ".py",
   "mimetype": "text/x-python",
   "name": "python",
   "nbconvert_exporter": "python",
   "pygments_lexer": "ipython3",
   "version": "3.9.16"
  },
  "orig_nbformat": 4
 },
 "nbformat": 4,
 "nbformat_minor": 2
}
