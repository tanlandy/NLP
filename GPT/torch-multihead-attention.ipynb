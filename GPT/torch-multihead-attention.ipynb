{
 "cells": [
  {
   "cell_type": "code",
   "execution_count": 1,
   "id": "initial_id",
   "metadata": {
    "collapsed": true,
    "ExecuteTime": {
     "end_time": "2023-12-25T03:09:50.407924Z",
     "start_time": "2023-12-25T03:09:47.769400Z"
    }
   },
   "outputs": [],
   "source": [
    "import torch\n",
    "import torch.nn as nn\n",
    "import torch.nn.functional as F"
   ]
  },
  {
   "cell_type": "code",
   "execution_count": null,
   "outputs": [],
   "source": [
    "class MultiHeadAttention(nn.Module):\n",
    "    def __init__(self, d_model, nhead):\n",
    "        super(MultiHeadAttention, self).__init__()\n",
    "        self.d_model = d_model\n",
    "        self.nhead = nhead\n",
    "        self.head_dim = d_model // nhead\n",
    "        assert d_model % nhead == 0, \"d_model must be divisible by nhead\"\n",
    "        self.values = nn.Linear(self.head_dim, self.d_model)\n",
    "        self.keys = nn.Linear(self.head_dim, self.d_model)\n",
    "        self.queries = nn.Linear(self.head_dim, self.d_model)\n",
    "        self.fc_out = nn.Linear(self.d_model, self.d_model)\n",
    "        \n",
    "    def forward(self, values, keys, queries, mask):\n",
    "        "
   ],
   "metadata": {
    "collapsed": false
   },
   "id": "596500c1b0514c3d"
  },
  {
   "cell_type": "code",
   "execution_count": null,
   "outputs": [],
   "source": [
    "torch.einsum"
   ],
   "metadata": {
    "collapsed": false
   },
   "id": "cf03c89c28ca4287"
  }
 ],
 "metadata": {
  "kernelspec": {
   "display_name": "Python 3",
   "language": "python",
   "name": "python3"
  },
  "language_info": {
   "codemirror_mode": {
    "name": "ipython",
    "version": 2
   },
   "file_extension": ".py",
   "mimetype": "text/x-python",
   "name": "python",
   "nbconvert_exporter": "python",
   "pygments_lexer": "ipython2",
   "version": "2.7.6"
  }
 },
 "nbformat": 4,
 "nbformat_minor": 5
}
