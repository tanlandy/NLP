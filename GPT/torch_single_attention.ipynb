{
 "cells": [
  {
   "cell_type": "markdown",
   "metadata": {},
   "source": [
    "# Implementation from ChatGPT"
   ]
  },
  {
   "cell_type": "code",
   "execution_count": null,
   "metadata": {},
   "outputs": [],
   "source": [
    "import torch\n",
    "import torch.nn as nn\n",
    "import torch.nn.functional as F\n",
    "\n",
    "class SingleHeadAttention(nn.Module):\n",
    "    def __init__(self, embed_size, heads):\n",
    "        super(SingleHeadAttention, self).__init__()\n",
    "        self.embed_size = embed_size\n",
    "        self.keys = nn.Linear(embed_size, embed_size, bias=False)\n",
    "        self.queries = nn.Linear(embed_size, embed_size, bias=False)\n",
    "        self.values = nn.Linear(embed_size, embed_size, bias=False)\n",
    "        self.fc_out = nn.Linear(embed_size, embed_size)\n",
    "\n",
    "    def forward(self, keys, queries, values, mask=None):\n",
    "        N = queries.shape[0]\n",
    "        key_len, query_len, value_len = keys.shape[1], queries.shape[1], values.shape[1]\n",
    "\n",
    "        # Linear projections\n",
    "        keys = self.keys(keys)\n",
    "        queries = self.queries(queries)\n",
    "        values = self.values(values)\n",
    "\n",
    "        # Scaled dot-product attention\n",
    "        energy = torch.matmul(queries, keys.transpose(-2, -1)) / (self.embed_size ** (1/2))\n",
    "        if mask is not None:\n",
    "            energy = energy.masked_fill(mask == 0, float(\"-1e20\"))\n",
    "        \n",
    "        attention = torch.softmax(energy, dim=-1)\n",
    "        out = torch.matmul(attention, values)\n",
    "        out = self.fc_out(out)\n",
    "        return out\n"
   ]
  }
 ],
 "metadata": {
  "language_info": {
   "name": "python"
  }
 },
 "nbformat": 4,
 "nbformat_minor": 2
}
