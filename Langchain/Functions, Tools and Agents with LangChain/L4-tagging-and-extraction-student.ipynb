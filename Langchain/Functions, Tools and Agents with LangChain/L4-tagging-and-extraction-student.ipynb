{
 "cells": [
  {
   "cell_type": "markdown",
   "id": "16de7336",
   "metadata": {},
   "source": [
    "# Tagging and Extraction Using OpenAI functions"
   ]
  },
  {
   "cell_type": "code",
   "execution_count": 1,
   "id": "cb41f5f4-df8d-4d04-9eaa-193b8c29b00b",
   "metadata": {
    "tags": [],
    "ExecuteTime": {
     "end_time": "2023-12-06T06:36:02.795026Z",
     "start_time": "2023-12-06T06:36:02.577335Z"
    }
   },
   "outputs": [],
   "source": [
    "import os\n",
    "import openai\n",
    "\n",
    "from dotenv import load_dotenv, find_dotenv\n",
    "_ = load_dotenv(find_dotenv()) # read local .env file\n",
    "openai.api_key = os.environ['OPENAI_API_KEY']"
   ]
  },
  {
   "cell_type": "code",
   "execution_count": 2,
   "id": "bfb2ede9-b0b4-4c8c-b00f-9a9911f38614",
   "metadata": {
    "ExecuteTime": {
     "end_time": "2023-12-06T06:38:00.677726Z",
     "start_time": "2023-12-06T06:38:00.417005Z"
    }
   },
   "outputs": [],
   "source": [
    "from typing import List\n",
    "from pydantic import BaseModel, Field\n",
    "from langchain.utils.openai_functions import convert_pydantic_to_openai_function"
   ]
  },
  {
   "cell_type": "code",
   "execution_count": 3,
   "id": "b3ae5481-4155-4831-a5dd-4c183b3b4990",
   "metadata": {
    "ExecuteTime": {
     "end_time": "2023-12-06T06:38:01.435781Z",
     "start_time": "2023-12-06T06:38:01.423730Z"
    }
   },
   "outputs": [],
   "source": [
    "class Tagging(BaseModel):\n",
    "    \"\"\"Tag the piece of text with particular info.\"\"\"\n",
    "    sentiment: str = Field(description=\"sentiment of text, should be `pos`, `neg`, or `neutral`\")\n",
    "    language: str = Field(description=\"language of text (should be ISO 639-1 code)\")"
   ]
  },
  {
   "cell_type": "code",
   "execution_count": 4,
   "id": "3cd656b2-62be-49d4-a277-b920c67203c1",
   "metadata": {
    "ExecuteTime": {
     "end_time": "2023-12-06T06:38:02.465930Z",
     "start_time": "2023-12-06T06:38:02.447486Z"
    }
   },
   "outputs": [
    {
     "data": {
      "text/plain": "{'name': 'Tagging',\n 'description': 'Tag the piece of text with particular info.',\n 'parameters': {'description': 'Tag the piece of text with particular info.',\n  'properties': {'sentiment': {'description': 'sentiment of text, should be `pos`, `neg`, or `neutral`',\n    'title': 'Sentiment',\n    'type': 'string'},\n   'language': {'description': 'language of text (should be ISO 639-1 code)',\n    'title': 'Language',\n    'type': 'string'}},\n  'required': ['sentiment', 'language'],\n  'title': 'Tagging',\n  'type': 'object'}}"
     },
     "execution_count": 4,
     "metadata": {},
     "output_type": "execute_result"
    }
   ],
   "source": [
    "convert_pydantic_to_openai_function(Tagging)"
   ]
  },
  {
   "cell_type": "code",
   "execution_count": 5,
   "id": "ed8b15a7-450c-43d6-af44-ca63800a4619",
   "metadata": {
    "ExecuteTime": {
     "end_time": "2023-12-06T06:38:34.776697Z",
     "start_time": "2023-12-06T06:38:34.505111Z"
    }
   },
   "outputs": [],
   "source": [
    "from langchain.prompts import ChatPromptTemplate\n",
    "from langchain.chat_models import ChatOpenAI"
   ]
  },
  {
   "cell_type": "code",
   "execution_count": 6,
   "id": "2cc5bac3-3783-4ce7-9de6-83c905fba7c5",
   "metadata": {
    "ExecuteTime": {
     "end_time": "2023-12-06T06:38:37.812675Z",
     "start_time": "2023-12-06T06:38:37.708449Z"
    }
   },
   "outputs": [],
   "source": [
    "model = ChatOpenAI(temperature=0)"
   ]
  },
  {
   "cell_type": "code",
   "execution_count": 7,
   "id": "798ac5b3-7e47-4cfb-8173-63900cf1e7f6",
   "metadata": {
    "ExecuteTime": {
     "end_time": "2023-12-06T06:38:53.956050Z",
     "start_time": "2023-12-06T06:38:53.940873Z"
    }
   },
   "outputs": [],
   "source": [
    "tagging_functions = [convert_pydantic_to_openai_function(Tagging)]"
   ]
  },
  {
   "cell_type": "code",
   "execution_count": 8,
   "id": "9d558031-18cf-4791-b061-8911ce314605",
   "metadata": {
    "ExecuteTime": {
     "end_time": "2023-12-06T06:39:10.295920Z",
     "start_time": "2023-12-06T06:39:10.280936Z"
    }
   },
   "outputs": [],
   "source": [
    "prompt = ChatPromptTemplate.from_messages([\n",
    "    (\"system\", \"Think carefully, and then tag the text as instructed\"),\n",
    "    (\"user\", \"{input}\")\n",
    "])"
   ]
  },
  {
   "cell_type": "code",
   "execution_count": 9,
   "id": "00607aff-a64e-42b7-8cf4-893e8393dd33",
   "metadata": {
    "ExecuteTime": {
     "end_time": "2023-12-06T06:39:10.954166Z",
     "start_time": "2023-12-06T06:39:10.949201Z"
    }
   },
   "outputs": [],
   "source": [
    "model_with_functions = model.bind(\n",
    "    functions=tagging_functions,\n",
    "    function_call={\"name\": \"Tagging\"}\n",
    ")"
   ]
  },
  {
   "cell_type": "code",
   "execution_count": 10,
   "id": "1d0bc519-2b8e-40d0-88ec-fc5ef0291f16",
   "metadata": {
    "ExecuteTime": {
     "end_time": "2023-12-06T06:39:11.562463Z",
     "start_time": "2023-12-06T06:39:11.556618Z"
    }
   },
   "outputs": [],
   "source": [
    "tagging_chain = prompt | model_with_functions"
   ]
  },
  {
   "cell_type": "code",
   "execution_count": 11,
   "id": "8688fdba-0996-446c-a77b-318094944998",
   "metadata": {
    "ExecuteTime": {
     "end_time": "2023-12-06T06:39:16.049896Z",
     "start_time": "2023-12-06T06:39:13.243206Z"
    }
   },
   "outputs": [
    {
     "data": {
      "text/plain": "AIMessage(content='', additional_kwargs={'function_call': {'arguments': '{\\n  \"sentiment\": \"pos\",\\n  \"language\": \"en\"\\n}', 'name': 'Tagging'}})"
     },
     "execution_count": 11,
     "metadata": {},
     "output_type": "execute_result"
    }
   ],
   "source": [
    "tagging_chain.invoke({\"input\": \"I love langchain\"})"
   ]
  },
  {
   "cell_type": "code",
   "execution_count": 12,
   "id": "7df9aac5-7194-4a12-bda7-e7e83e705929",
   "metadata": {
    "ExecuteTime": {
     "end_time": "2023-12-06T06:40:42.448697Z",
     "start_time": "2023-12-06T06:40:39.557501Z"
    }
   },
   "outputs": [
    {
     "data": {
      "text/plain": "AIMessage(content='', additional_kwargs={'function_call': {'arguments': '{\\n  \"sentiment\": \"neg\",\\n  \"language\": \"it\"\\n}', 'name': 'Tagging'}})"
     },
     "execution_count": 12,
     "metadata": {},
     "output_type": "execute_result"
    }
   ],
   "source": [
    "tagging_chain.invoke({\"input\": \"non mi piace questo cibo\"})"
   ]
  },
  {
   "cell_type": "code",
   "execution_count": 13,
   "id": "0749e408-3878-4ddd-ad33-8d5b8418a3f2",
   "metadata": {
    "ExecuteTime": {
     "end_time": "2023-12-06T06:41:20.615607Z",
     "start_time": "2023-12-06T06:41:20.587301Z"
    }
   },
   "outputs": [],
   "source": [
    "from langchain.output_parsers.openai_functions import JsonOutputFunctionsParser"
   ]
  },
  {
   "cell_type": "code",
   "execution_count": 14,
   "id": "dc45243e-7225-427d-b679-d737ebaec780",
   "metadata": {
    "ExecuteTime": {
     "end_time": "2023-12-06T06:41:21.095536Z",
     "start_time": "2023-12-06T06:41:21.091043Z"
    }
   },
   "outputs": [],
   "source": [
    "tagging_chain = prompt | model_with_functions | JsonOutputFunctionsParser()"
   ]
  },
  {
   "cell_type": "code",
   "execution_count": 15,
   "id": "7ba84e64-518c-40e1-a7c9-d174314bc3fb",
   "metadata": {
    "ExecuteTime": {
     "end_time": "2023-12-06T06:41:24.466243Z",
     "start_time": "2023-12-06T06:41:21.724905Z"
    }
   },
   "outputs": [
    {
     "data": {
      "text/plain": "{'sentiment': 'neg', 'language': 'it'}"
     },
     "execution_count": 15,
     "metadata": {},
     "output_type": "execute_result"
    }
   ],
   "source": [
    "tagging_chain.invoke({\"input\": \"non mi piace questo cibo\"})"
   ]
  },
  {
   "cell_type": "markdown",
   "id": "92e417b4-9306-413f-865f-e13dbd2d0196",
   "metadata": {},
   "source": [
    "## Extraction\n",
    "\n",
    "Extraction is similar to tagging, but used for extracting multiple pieces of information."
   ]
  },
  {
   "cell_type": "code",
   "execution_count": 16,
   "id": "97338dce-a61a-4f8b-912c-6108dcb86183",
   "metadata": {
    "ExecuteTime": {
     "end_time": "2023-12-06T06:42:45.876536Z",
     "start_time": "2023-12-06T06:42:45.873393Z"
    }
   },
   "outputs": [],
   "source": [
    "from typing import Optional\n",
    "class Person(BaseModel):\n",
    "    \"\"\"Information about a person.\"\"\"\n",
    "    name: str = Field(description=\"person's name\")\n",
    "    age: Optional[int] = Field(description=\"person's age\")"
   ]
  },
  {
   "cell_type": "code",
   "execution_count": 17,
   "id": "f558fb45-f3a5-47be-8778-dddec2d00ba1",
   "metadata": {
    "ExecuteTime": {
     "end_time": "2023-12-06T06:42:47.310811Z",
     "start_time": "2023-12-06T06:42:47.296334Z"
    }
   },
   "outputs": [],
   "source": [
    "class Information(BaseModel):\n",
    "    \"\"\"Information to extract.\"\"\"\n",
    "    people: List[Person] = Field(description=\"List of info about people\")"
   ]
  },
  {
   "cell_type": "code",
   "execution_count": 18,
   "id": "5eeb6028-0ade-46f6-a899-ca10f185bb24",
   "metadata": {
    "ExecuteTime": {
     "end_time": "2023-12-06T06:42:52.073113Z",
     "start_time": "2023-12-06T06:42:52.062001Z"
    }
   },
   "outputs": [
    {
     "data": {
      "text/plain": "{'name': 'Information',\n 'description': 'Information to extract.',\n 'parameters': {'$defs': {'Person': {'description': 'Information about a person.',\n    'properties': {'name': {'description': \"person's name\",\n      'title': 'Name',\n      'type': 'string'},\n     'age': {'anyOf': [{'type': 'integer'}, {'type': 'null'}],\n      'description': \"person's age\",\n      'title': 'Age'}},\n    'required': ['name', 'age'],\n    'title': 'Person',\n    'type': 'object'}},\n  'description': 'Information to extract.',\n  'properties': {'people': {'description': 'List of info about people',\n    'items': {'description': 'Information about a person.',\n     'properties': {'name': {'description': \"person's name\",\n       'title': 'Name',\n       'type': 'string'},\n      'age': {'anyOf': [{'type': 'integer'}, {'type': 'null'}],\n       'description': \"person's age\",\n       'title': 'Age'}},\n     'required': ['name', 'age'],\n     'title': 'Person',\n     'type': 'object'},\n    'title': 'People',\n    'type': 'array'}},\n  'required': ['people'],\n  'title': 'Information',\n  'type': 'object'}}"
     },
     "execution_count": 18,
     "metadata": {},
     "output_type": "execute_result"
    }
   ],
   "source": [
    "convert_pydantic_to_openai_function(Information)"
   ]
  },
  {
   "cell_type": "code",
   "execution_count": 19,
   "id": "f16ce50e-bad7-4fbb-b9e2-0adae6fc55f2",
   "metadata": {
    "ExecuteTime": {
     "end_time": "2023-12-06T06:44:02.575114Z",
     "start_time": "2023-12-06T06:44:02.570919Z"
    }
   },
   "outputs": [],
   "source": [
    "extraction_functions = [convert_pydantic_to_openai_function(Information)]\n",
    "extraction_model = model.bind(functions=extraction_functions, function_call={\"name\": \"Information\"})"
   ]
  },
  {
   "cell_type": "code",
   "execution_count": 20,
   "id": "3ed58069-3f7c-433e-93ed-5660d21435c9",
   "metadata": {
    "ExecuteTime": {
     "end_time": "2023-12-06T06:44:13.929417Z",
     "start_time": "2023-12-06T06:44:10.762162Z"
    }
   },
   "outputs": [
    {
     "data": {
      "text/plain": "AIMessage(content='', additional_kwargs={'function_call': {'arguments': '{\\n  \"people\": [\\n    {\\n      \"name\": \"Joe\",\\n      \"age\": 30\\n    },\\n    {\\n      \"name\": \"Martha\",\\n      \"age\": null\\n    }\\n  ]\\n}', 'name': 'Information'}})"
     },
     "execution_count": 20,
     "metadata": {},
     "output_type": "execute_result"
    }
   ],
   "source": [
    "extraction_model.invoke(\"Joe is 30, his mom is Martha\")"
   ]
  },
  {
   "cell_type": "code",
   "execution_count": 21,
   "id": "172df097-250a-4813-b76d-21436c13056d",
   "metadata": {
    "ExecuteTime": {
     "end_time": "2023-12-06T06:45:24.823176Z",
     "start_time": "2023-12-06T06:45:24.815891Z"
    }
   },
   "outputs": [],
   "source": [
    "prompt = ChatPromptTemplate.from_messages([\n",
    "    (\"system\", \"Extract the relevant information, if not explicitly provided do not guess. Extract partial info\"),\n",
    "    (\"human\", \"{input}\")\n",
    "])"
   ]
  },
  {
   "cell_type": "code",
   "execution_count": 22,
   "id": "dfec48d7-25a2-46d7-a7a2-33284b577dd3",
   "metadata": {
    "ExecuteTime": {
     "end_time": "2023-12-06T06:45:29.127390Z",
     "start_time": "2023-12-06T06:45:29.111378Z"
    }
   },
   "outputs": [],
   "source": [
    "extraction_chain = prompt | extraction_model"
   ]
  },
  {
   "cell_type": "code",
   "execution_count": 23,
   "id": "f19622af-4b01-4145-ae5a-af15b551a182",
   "metadata": {
    "ExecuteTime": {
     "end_time": "2023-12-06T06:45:35.537795Z",
     "start_time": "2023-12-06T06:45:29.998373Z"
    }
   },
   "outputs": [
    {
     "data": {
      "text/plain": "AIMessage(content='', additional_kwargs={'function_call': {'arguments': '{\\n  \"people\": [\\n    {\\n      \"name\": \"Joe\",\\n      \"age\": 30\\n    },\\n    {\\n      \"name\": \"Martha\",\\n      \"age\": null\\n    }\\n  ]\\n}', 'name': 'Information'}})"
     },
     "execution_count": 23,
     "metadata": {},
     "output_type": "execute_result"
    }
   ],
   "source": [
    "extraction_chain.invoke({\"input\": \"Joe is 30, his mom is Martha\"})"
   ]
  },
  {
   "cell_type": "code",
   "execution_count": 24,
   "id": "38989431-9a61-461e-a86f-61a7dddab63c",
   "metadata": {
    "ExecuteTime": {
     "end_time": "2023-12-06T06:46:07.382621Z",
     "start_time": "2023-12-06T06:46:07.365927Z"
    }
   },
   "outputs": [],
   "source": [
    "extraction_chain = prompt | extraction_model | JsonOutputFunctionsParser()"
   ]
  },
  {
   "cell_type": "code",
   "execution_count": 25,
   "id": "13ac89c9-1e8d-4e11-8bca-909a6c34d23c",
   "metadata": {
    "ExecuteTime": {
     "end_time": "2023-12-06T06:46:11.525540Z",
     "start_time": "2023-12-06T06:46:07.969521Z"
    }
   },
   "outputs": [
    {
     "data": {
      "text/plain": "{'people': [{'name': 'Joe', 'age': 30}, {'name': 'Martha', 'age': None}]}"
     },
     "execution_count": 25,
     "metadata": {},
     "output_type": "execute_result"
    }
   ],
   "source": [
    "extraction_chain.invoke({\"input\": \"Joe is 30, his mom is Martha\"})"
   ]
  },
  {
   "cell_type": "code",
   "execution_count": 26,
   "id": "f8db4b39-c28b-4c0e-8b9a-55ceb8ba817e",
   "metadata": {
    "ExecuteTime": {
     "end_time": "2023-12-06T06:46:38.386277Z",
     "start_time": "2023-12-06T06:46:38.382538Z"
    }
   },
   "outputs": [],
   "source": [
    "from langchain.output_parsers.openai_functions import JsonKeyOutputFunctionsParser"
   ]
  },
  {
   "cell_type": "code",
   "execution_count": 27,
   "id": "2901d3ac-4dfc-4fb9-afd3-ab056489d3ae",
   "metadata": {
    "ExecuteTime": {
     "end_time": "2023-12-06T06:46:40.915800Z",
     "start_time": "2023-12-06T06:46:40.900796Z"
    }
   },
   "outputs": [],
   "source": [
    "extraction_chain = prompt | extraction_model | JsonKeyOutputFunctionsParser(key_name=\"people\")"
   ]
  },
  {
   "cell_type": "code",
   "execution_count": 28,
   "id": "c7eff400-9f3a-42a8-ba4a-a3757e7939e2",
   "metadata": {
    "ExecuteTime": {
     "end_time": "2023-12-06T06:46:45.568949Z",
     "start_time": "2023-12-06T06:46:42.139199Z"
    }
   },
   "outputs": [
    {
     "data": {
      "text/plain": "[{'name': 'Joe', 'age': 30}, {'name': 'Martha', 'age': None}]"
     },
     "execution_count": 28,
     "metadata": {},
     "output_type": "execute_result"
    }
   ],
   "source": [
    "extraction_chain.invoke({\"input\": \"Joe is 30, his mom is Martha\"})"
   ]
  },
  {
   "cell_type": "markdown",
   "id": "3b8524f3-a663-4007-ad59-52dfe00343e9",
   "metadata": {},
   "source": [
    "## Doing it for real\n",
    "\n",
    "We can apply tagging to a larger body of text.\n",
    "\n",
    "For example, let's load this blog post and extract tag information from a sub-set of the text."
   ]
  },
  {
   "cell_type": "code",
   "execution_count": 29,
   "id": "bc7c4a8c-d4c8-4400-b1d3-5c7c0c25786e",
   "metadata": {
    "ExecuteTime": {
     "end_time": "2023-12-06T06:53:28.423882Z",
     "start_time": "2023-12-06T06:53:26.639289Z"
    }
   },
   "outputs": [],
   "source": [
    "from langchain.document_loaders import WebBaseLoader\n",
    "loader = WebBaseLoader(\"https://lilianweng.github.io/posts/2023-06-23-agent/\")\n",
    "documents = loader.load()"
   ]
  },
  {
   "cell_type": "code",
   "execution_count": 30,
   "id": "dbd2e910-e0e0-447a-8118-6fe792f04e15",
   "metadata": {
    "ExecuteTime": {
     "end_time": "2023-12-06T06:53:29.491082Z",
     "start_time": "2023-12-06T06:53:29.476360Z"
    }
   },
   "outputs": [],
   "source": [
    "doc = documents[0]"
   ]
  },
  {
   "cell_type": "code",
   "execution_count": 31,
   "id": "b5e39f78-ff18-4016-a751-7d0e4c82bb36",
   "metadata": {
    "ExecuteTime": {
     "end_time": "2023-12-06T06:53:30.407127Z",
     "start_time": "2023-12-06T06:53:30.392246Z"
    }
   },
   "outputs": [],
   "source": [
    "page_content = doc.page_content[:10000]"
   ]
  },
  {
   "cell_type": "code",
   "execution_count": 32,
   "id": "bb8d98ee-e9b2-4ce8-982a-c06dc006da76",
   "metadata": {
    "scrolled": true,
    "ExecuteTime": {
     "end_time": "2023-12-06T06:53:32.363733Z",
     "start_time": "2023-12-06T06:53:32.348983Z"
    }
   },
   "outputs": [
    {
     "name": "stdout",
     "output_type": "stream",
     "text": [
      "\n",
      "\n",
      "\n",
      "\n",
      "\n",
      "\n",
      "LLM Powered Autonomous Agents | Lil'Log\n",
      "\n",
      "\n",
      "\n",
      "\n",
      "\n",
      "\n",
      "\n",
      "\n",
      "\n",
      "\n",
      "\n",
      "\n",
      "\n",
      "\n",
      "\n",
      "\n",
      "\n",
      "\n",
      "\n",
      "\n",
      "\n",
      "\n",
      "\n",
      "\n",
      "\n",
      "\n",
      "\n",
      "\n",
      "\n",
      "\n",
      "\n",
      "\n",
      "\n",
      "\n",
      "\n",
      "\n",
      "\n",
      "\n",
      "\n",
      "Lil'Log\n",
      "\n",
      "\n",
      "\n",
      "\n",
      "\n",
      "\n",
      "\n",
      "\n",
      "\n",
      "\n",
      "\n",
      "\n",
      "\n",
      "\n",
      "\n",
      "\n",
      "\n",
      "\n",
      "\n",
      "\n",
      "\n",
      "\n",
      "Posts\n",
      "\n",
      "\n",
      "\n",
      "\n",
      "Archive\n",
      "\n",
      "\n",
      "\n",
      "\n",
      "Search\n",
      "\n",
      "\n",
      "\n",
      "\n",
      "Tags\n",
      "\n",
      "\n",
      "\n",
      "\n",
      "FAQ\n",
      "\n",
      "\n",
      "\n",
      "\n",
      "emojisearch.app\n",
      "\n",
      "\n",
      "\n",
      "\n",
      "\n",
      "\n",
      "\n",
      "\n",
      "\n",
      "      LLM Powered Autonomous Agents\n",
      "    \n",
      "Date: June 23, 2023  |  Estimated Reading Time: 31 min  |  Author: Lilian Weng\n",
      "\n",
      "\n",
      " \n",
      "\n",
      "\n",
      "Table of Contents\n",
      "\n",
      "\n",
      "\n",
      "Agent System Overview\n",
      "\n",
      "Component One: Planning\n",
      "\n",
      "Task Decomposition\n",
      "\n",
      "Self-Reflection\n",
      "\n",
      "\n",
      "Component Two: Memory\n",
      "\n",
      "Types of Memory\n",
      "\n",
      "Maximum Inner Product Search (MIPS)\n",
      "\n",
      "\n",
      "Component Three: Tool Use\n",
      "\n",
      "Case Studies\n",
      "\n",
      "Scientific Discovery Agent\n",
      "\n",
      "Generative Agents Simulation\n",
      "\n",
      "Proof-of-Concept Examples\n",
      "\n",
      "\n",
      "Challenges\n",
      "\n",
      "Citation\n",
      "\n",
      "References\n",
      "\n",
      "\n",
      "\n",
      "\n",
      "\n",
      "Building agents with LLM (large language model) as its core controller is a cool concept. Several proof-of-concepts demos, such as AutoGPT, GPT-Engineer and BabyAGI, serve as inspiring examples. The potentiality of LLM extends beyond generating well-written copies, stories, essays and programs; it can be framed as a powerful general\n"
     ]
    }
   ],
   "source": [
    "print(page_content[:1000])"
   ]
  },
  {
   "cell_type": "code",
   "execution_count": 33,
   "id": "9db0d107-5284-4253-b769-dfedb97ce95d",
   "metadata": {
    "ExecuteTime": {
     "end_time": "2023-12-06T06:53:34.344208Z",
     "start_time": "2023-12-06T06:53:34.331849Z"
    }
   },
   "outputs": [],
   "source": [
    "class Overview(BaseModel):\n",
    "    \"\"\"Overview of a section of text.\"\"\"\n",
    "    summary: str = Field(description=\"Provide a concise summary of the content.\")\n",
    "    language: str = Field(description=\"Provide the language that the content is written in.\")\n",
    "    keywords: str = Field(description=\"Provide keywords related to the content.\")"
   ]
  },
  {
   "cell_type": "code",
   "execution_count": 34,
   "id": "6bfe7fe6-a86d-416c-a7f2-373dc70fcba5",
   "metadata": {
    "ExecuteTime": {
     "end_time": "2023-12-06T06:54:46.401903Z",
     "start_time": "2023-12-06T06:54:46.386795Z"
    }
   },
   "outputs": [],
   "source": [
    "overview_tagging_function = [\n",
    "    convert_pydantic_to_openai_function(Overview)\n",
    "]\n",
    "tagging_model = model.bind(\n",
    "    functions=overview_tagging_function,\n",
    "    function_call={\"name\":\"Overview\"}\n",
    ")\n",
    "tagging_chain = prompt | tagging_model | JsonOutputFunctionsParser()"
   ]
  },
  {
   "cell_type": "code",
   "execution_count": 35,
   "id": "518f2337-a8eb-4eff-b764-b70e48545d19",
   "metadata": {
    "ExecuteTime": {
     "end_time": "2023-12-06T06:55:46.932792Z",
     "start_time": "2023-12-06T06:55:39.889798Z"
    }
   },
   "outputs": [
    {
     "data": {
      "text/plain": "{'summary': 'This article discusses the concept of building autonomous agents powered by LLM (large language model) as their core controller. It explores the key components of such agent systems, including planning, memory, and tool use. It also covers various techniques for task decomposition and self-reflection in autonomous agents. The article provides examples of case studies and challenges in implementing LLM-powered autonomous agents.',\n 'language': 'English',\n 'keywords': 'LLM, autonomous agents, planning, memory, tool use, task decomposition, self-reflection, case studies, challenges'}"
     },
     "execution_count": 35,
     "metadata": {},
     "output_type": "execute_result"
    }
   ],
   "source": [
    "tagging_chain.invoke({\"input\": page_content})"
   ]
  },
  {
   "cell_type": "code",
   "execution_count": 36,
   "id": "5be5d604-3d95-476a-afe4-b46b021534fc",
   "metadata": {
    "ExecuteTime": {
     "end_time": "2023-12-06T06:56:15.074194Z",
     "start_time": "2023-12-06T06:56:15.062684Z"
    }
   },
   "outputs": [],
   "source": [
    "class Paper(BaseModel):\n",
    "    \"\"\"Information about papers mentioned.\"\"\"\n",
    "    title: str\n",
    "    author: Optional[str]\n",
    "\n",
    "\n",
    "class Info(BaseModel):\n",
    "    \"\"\"Information to extract\"\"\"\n",
    "    papers: List[Paper]"
   ]
  },
  {
   "cell_type": "code",
   "execution_count": 37,
   "id": "8e56ca98-d05d-4199-a6ec-fe485b630da6",
   "metadata": {
    "ExecuteTime": {
     "end_time": "2023-12-06T06:56:38.974136Z",
     "start_time": "2023-12-06T06:56:38.960830Z"
    }
   },
   "outputs": [],
   "source": [
    "paper_extraction_function = [\n",
    "    convert_pydantic_to_openai_function(Info)\n",
    "]\n",
    "extraction_model = model.bind(\n",
    "    functions=paper_extraction_function, \n",
    "    function_call={\"name\":\"Info\"}\n",
    ")\n",
    "extraction_chain = prompt | extraction_model | JsonKeyOutputFunctionsParser(key_name=\"papers\")"
   ]
  },
  {
   "cell_type": "code",
   "execution_count": 38,
   "id": "f082b7a0-b7ea-488a-923c-aba8e4b185a0",
   "metadata": {
    "ExecuteTime": {
     "end_time": "2023-12-06T06:56:46.307326Z",
     "start_time": "2023-12-06T06:56:41.237527Z"
    }
   },
   "outputs": [
    {
     "data": {
      "text/plain": "[{'title': 'LLM Powered Autonomous Agents', 'author': 'Lilian Weng'}]"
     },
     "execution_count": 38,
     "metadata": {},
     "output_type": "execute_result"
    }
   ],
   "source": [
    "extraction_chain.invoke({\"input\": page_content})"
   ]
  },
  {
   "cell_type": "code",
   "execution_count": 39,
   "id": "2a8dcce7-7032-49a8-893d-1659e2f51f03",
   "metadata": {
    "ExecuteTime": {
     "end_time": "2023-12-06T06:57:29.596668Z",
     "start_time": "2023-12-06T06:57:29.582930Z"
    }
   },
   "outputs": [],
   "source": [
    "template = \"\"\"A article will be passed to you. Extract from it all papers that are mentioned by this article. \n",
    "\n",
    "Do not extract the name of the article itself. If no papers are mentioned that's fine - you don't need to extract any! Just return an empty list.\n",
    "\n",
    "Do not make up or guess ANY extra information. Only extract what exactly is in the text.\"\"\"\n",
    "\n",
    "prompt = ChatPromptTemplate.from_messages([\n",
    "    (\"system\", template),\n",
    "    (\"human\", \"{input}\")\n",
    "])"
   ]
  },
  {
   "cell_type": "code",
   "execution_count": 40,
   "id": "a5f4c8cc-d9a4-4556-a89e-94ec981c6f5e",
   "metadata": {
    "ExecuteTime": {
     "end_time": "2023-12-06T06:57:32.778319Z",
     "start_time": "2023-12-06T06:57:32.764382Z"
    }
   },
   "outputs": [],
   "source": [
    "extraction_chain = prompt | extraction_model | JsonKeyOutputFunctionsParser(key_name=\"papers\")"
   ]
  },
  {
   "cell_type": "code",
   "execution_count": 41,
   "id": "b63e00b6-0f06-4e74-948e-04805e66f40c",
   "metadata": {
    "ExecuteTime": {
     "end_time": "2023-12-06T06:57:51.194933Z",
     "start_time": "2023-12-06T06:57:34.093432Z"
    }
   },
   "outputs": [
    {
     "data": {
      "text/plain": "[{'title': 'Chain of thought (CoT; Wei et al. 2022)', 'author': None},\n {'title': 'Tree of Thoughts (Yao et al. 2023)', 'author': None},\n {'title': 'LLM+P (Liu et al. 2023)', 'author': None},\n {'title': 'ReAct (Yao et al. 2023)', 'author': None},\n {'title': 'Reflexion (Shinn & Labash 2023)', 'author': None},\n {'title': 'Chain of Hindsight (CoH; Liu et al. 2023)', 'author': None},\n {'title': 'Algorithm Distillation (AD; Laskin et al. 2023)', 'author': None}]"
     },
     "execution_count": 41,
     "metadata": {},
     "output_type": "execute_result"
    }
   ],
   "source": [
    "extraction_chain.invoke({\"input\": page_content})"
   ]
  },
  {
   "cell_type": "code",
   "execution_count": 42,
   "id": "365bfa5b-f0d2-4a19-8db1-1b4a0f51703d",
   "metadata": {
    "ExecuteTime": {
     "end_time": "2023-12-06T06:58:23.565594Z",
     "start_time": "2023-12-06T06:58:21.392682Z"
    }
   },
   "outputs": [
    {
     "data": {
      "text/plain": "[]"
     },
     "execution_count": 42,
     "metadata": {},
     "output_type": "execute_result"
    }
   ],
   "source": [
    "extraction_chain.invoke({\"input\": \"hi\"})"
   ]
  },
  {
   "cell_type": "markdown",
   "source": [
    "分析一本书，找到里面所有的paper"
   ],
   "metadata": {
    "collapsed": false
   },
   "id": "601ac4ccf00d24"
  },
  {
   "cell_type": "code",
   "execution_count": 43,
   "id": "7a3e18b5-0692-49dc-b589-5d4ae5a43fdd",
   "metadata": {
    "ExecuteTime": {
     "end_time": "2023-12-06T06:59:18.275804Z",
     "start_time": "2023-12-06T06:59:18.259396Z"
    }
   },
   "outputs": [],
   "source": [
    "from langchain.text_splitter import RecursiveCharacterTextSplitter\n",
    "text_splitter = RecursiveCharacterTextSplitter(chunk_overlap=0)"
   ]
  },
  {
   "cell_type": "code",
   "execution_count": 44,
   "id": "a851b07c-0f73-4cf1-801f-9832190db93a",
   "metadata": {
    "ExecuteTime": {
     "end_time": "2023-12-06T06:59:19.020075Z",
     "start_time": "2023-12-06T06:59:19.004817Z"
    }
   },
   "outputs": [],
   "source": [
    "splits = text_splitter.split_text(doc.page_content)"
   ]
  },
  {
   "cell_type": "code",
   "execution_count": 45,
   "id": "fbd6fd3c-8fca-4f16-a256-a66577b48eb1",
   "metadata": {
    "ExecuteTime": {
     "end_time": "2023-12-06T06:59:19.677055Z",
     "start_time": "2023-12-06T06:59:19.671030Z"
    }
   },
   "outputs": [
    {
     "data": {
      "text/plain": "14"
     },
     "execution_count": 45,
     "metadata": {},
     "output_type": "execute_result"
    }
   ],
   "source": [
    "len(splits)"
   ]
  },
  {
   "cell_type": "code",
   "execution_count": 46,
   "id": "6f1309bf-16a5-43ef-aa8e-427cf5120938",
   "metadata": {
    "ExecuteTime": {
     "end_time": "2023-12-06T06:59:20.538527Z",
     "start_time": "2023-12-06T06:59:20.522888Z"
    }
   },
   "outputs": [],
   "source": [
    "def flatten(matrix):\n",
    "    flat_list = []\n",
    "    for row in matrix:\n",
    "        flat_list += row\n",
    "    return flat_list"
   ]
  },
  {
   "cell_type": "code",
   "execution_count": 47,
   "id": "5af35566-8f5f-4e02-86d2-c1a97ca4e573",
   "metadata": {
    "ExecuteTime": {
     "end_time": "2023-12-06T06:59:21.494195Z",
     "start_time": "2023-12-06T06:59:21.477850Z"
    }
   },
   "outputs": [
    {
     "data": {
      "text/plain": "[1, 2, 3, 4]"
     },
     "execution_count": 47,
     "metadata": {},
     "output_type": "execute_result"
    }
   ],
   "source": [
    "flatten([[1, 2], [3, 4]])"
   ]
  },
  {
   "cell_type": "code",
   "execution_count": 48,
   "id": "b77be284-fca5-4ab0-ab36-b83b3ab53136",
   "metadata": {
    "scrolled": true,
    "ExecuteTime": {
     "end_time": "2023-12-06T06:59:23.189463Z",
     "start_time": "2023-12-06T06:59:23.172741Z"
    }
   },
   "outputs": [
    {
     "name": "stdout",
     "output_type": "stream",
     "text": [
      "LLM Powered Autonomous Agents | Lil'Log\n",
      "\n",
      "\n",
      "\n",
      "\n",
      "\n",
      "\n",
      "\n",
      "\n",
      "\n",
      "\n",
      "\n",
      "\n",
      "\n",
      "\n",
      "\n",
      "\n",
      "\n",
      "\n",
      "\n",
      "\n",
      "\n",
      "\n",
      "\n",
      "\n",
      "\n",
      "\n",
      "\n",
      "\n",
      "\n",
      "\n",
      "\n",
      "\n",
      "\n",
      "\n",
      "\n",
      "\n",
      "\n",
      "\n",
      "\n",
      "Lil'Log\n",
      "\n",
      "\n",
      "\n",
      "\n",
      "\n",
      "\n",
      "\n",
      "\n",
      "\n",
      "\n",
      "\n",
      "\n",
      "\n",
      "\n",
      "\n",
      "\n",
      "\n",
      "\n",
      "\n",
      "\n",
      "\n",
      "\n",
      "Posts\n",
      "\n",
      "\n",
      "\n",
      "\n",
      "Archive\n",
      "\n",
      "\n",
      "\n",
      "\n",
      "Search\n",
      "\n",
      "\n",
      "\n",
      "\n",
      "Tags\n",
      "\n",
      "\n",
      "\n",
      "\n",
      "FAQ\n",
      "\n",
      "\n",
      "\n",
      "\n",
      "emojisearch.app\n",
      "\n",
      "\n",
      "\n",
      "\n",
      "\n",
      "\n",
      "\n",
      "\n",
      "\n",
      "      LLM Powered Autonomous Agents\n",
      "    \n",
      "Date: June 23, 2023  |  Estimated Reading Time: 31 min  |  Author: Lilian Weng\n",
      "\n",
      "\n",
      " \n",
      "\n",
      "\n",
      "Table of Contents\n",
      "\n",
      "\n",
      "\n",
      "Agent System Overview\n",
      "\n",
      "Component One: Planning\n",
      "\n",
      "Task Decomposition\n",
      "\n",
      "Self-Reflection\n",
      "\n",
      "\n",
      "Component Two: Memory\n",
      "\n",
      "Types of Memory\n",
      "\n",
      "Maximum Inner Product Search (MIPS)\n",
      "\n",
      "\n",
      "Component Three: Tool Use\n",
      "\n",
      "Case Studies\n",
      "\n",
      "Scientific Discovery Agent\n",
      "\n",
      "Generative Agents Simulation\n",
      "\n",
      "Proof-of-Concept Examples\n",
      "\n",
      "\n",
      "Challenges\n",
      "\n",
      "Citation\n",
      "\n",
      "References\n",
      "\n",
      "\n",
      "\n",
      "\n",
      "\n",
      "Building agents with LLM (large language model) as its core controller is a cool concept. Several proof-of-concepts demos, such as AutoGPT, GPT-Engineer and BabyAGI, serve as inspiring examples. The potentiality of LLM extends beyond generating well-written copies, stories, essays and programs; it can be framed as a powerful general problem solver.\n",
      "Agent System Overview#\n",
      "In a LLM-powered autonomous agent system, LLM functions as the agent’s brain, complemented by several key components:\n",
      "\n",
      "Planning\n",
      "\n",
      "Subgoal and decomposition: The agent breaks down large tasks into smaller, manageable subgoals, enabling efficient handling of complex tasks.\n",
      "Reflection and refinement: The agent can do self-criticism and self-reflection over past actions, learn from mistakes and refine them for future steps, thereby improving the quality of final results.\n",
      "\n",
      "\n",
      "Memory\n",
      "\n",
      "Short-term memory: I would consider all the in-context learning (See Prompt Engineering) as utilizing short-term memory of the model to learn.\n",
      "Long-term memory: This provides the agent with the capability to retain and recall (infinite) information over extended periods, often by leveraging an external vector store and fast retrieval.\n",
      "\n",
      "\n",
      "Tool use\n",
      "\n",
      "The agent learns to call external APIs for extra information that is missing from the model weights (often hard to change after pre-training), including current information, code execution capability, access to proprietary information sources and more.\n"
     ]
    }
   ],
   "source": [
    "print(splits[0])"
   ]
  },
  {
   "cell_type": "code",
   "execution_count": 49,
   "id": "67bded5d-de85-488c-bd3f-d83acbcfea33",
   "metadata": {
    "ExecuteTime": {
     "end_time": "2023-12-06T06:59:26.647272Z",
     "start_time": "2023-12-06T06:59:26.633623Z"
    }
   },
   "outputs": [],
   "source": [
    "from langchain.schema.runnable import RunnableLambda"
   ]
  },
  {
   "cell_type": "code",
   "execution_count": 50,
   "id": "04233d0a-fe44-45ed-9145-af3caaa86863",
   "metadata": {
    "ExecuteTime": {
     "end_time": "2023-12-06T06:59:35.093149Z",
     "start_time": "2023-12-06T06:59:35.079004Z"
    }
   },
   "outputs": [],
   "source": [
    "prep = RunnableLambda(\n",
    "    lambda x: [{\"input\": doc} for doc in text_splitter.split_text(x)]\n",
    ")"
   ]
  },
  {
   "cell_type": "code",
   "execution_count": 51,
   "id": "fa8c2f1e-f3ac-4d9c-8ded-541778a32ef9",
   "metadata": {
    "ExecuteTime": {
     "end_time": "2023-12-06T06:59:35.655658Z",
     "start_time": "2023-12-06T06:59:35.650936Z"
    }
   },
   "outputs": [
    {
     "data": {
      "text/plain": "[{'input': 'hi'}]"
     },
     "execution_count": 51,
     "metadata": {},
     "output_type": "execute_result"
    }
   ],
   "source": [
    "prep.invoke(\"hi\")"
   ]
  },
  {
   "cell_type": "code",
   "execution_count": 52,
   "id": "3f7d0255-4b58-42c9-a747-44768a866633",
   "metadata": {
    "ExecuteTime": {
     "end_time": "2023-12-06T06:59:36.282209Z",
     "start_time": "2023-12-06T06:59:36.278528Z"
    }
   },
   "outputs": [],
   "source": [
    "chain = prep | extraction_chain.map() | flatten\n",
    "# .map(): apply the function to each element of the list, in this case, map each element of prep to extraction_chain\n"
   ]
  },
  {
   "cell_type": "code",
   "execution_count": 53,
   "id": "0dfa1f67-7246-4f4f-8967-4d7266df7b7a",
   "metadata": {
    "ExecuteTime": {
     "end_time": "2023-12-06T07:00:17.116927Z",
     "start_time": "2023-12-06T06:59:37.020597Z"
    }
   },
   "outputs": [
    {
     "data": {
      "text/plain": "[{'title': 'AutoGPT', 'author': None},\n {'title': 'GPT-Engineer', 'author': None},\n {'title': 'BabyAGI', 'author': None},\n {'title': 'Chain of thought (CoT; Wei et al. 2022)', 'author': None},\n {'title': 'Tree of Thoughts (Yao et al. 2023)', 'author': None},\n {'title': 'LLM+P (Liu et al. 2023)', 'author': None},\n {'title': 'ReAct (Yao et al. 2023)', 'author': None},\n {'title': 'Reflexion (Shinn & Labash 2023)', 'author': None},\n {'title': 'Reflexion framework', 'author': 'Shinn & Labash'},\n {'title': 'Chain of Hindsight', 'author': 'Liu et al.'},\n {'title': 'Algorithm Distillation', 'author': 'Laskin et al.'},\n {'title': 'Algorithm Distillation', 'author': 'Laskin et al. 2023'},\n {'title': 'ED (expert distillation)', 'author': None},\n {'title': 'RL^2', 'author': 'Duan et al. 2017'},\n {'title': 'LSH: Locality-Sensitive Hashing', 'author': None},\n {'title': 'ANNOY: Approximate Nearest Neighbors Oh Yeah', 'author': None},\n {'title': 'HNSW: Hierarchical Navigable Small World', 'author': None},\n {'title': 'FAISS: Facebook AI Similarity Search', 'author': None},\n {'title': 'ScaNN: Scalable Nearest Neighbors', 'author': None},\n {'title': 'MRKL (Karpas et al. 2022)', 'author': None},\n {'title': 'TALM (Tool Augmented Language Models; Parisi et al. 2022)',\n  'author': None},\n {'title': 'Toolformer (Schick et al. 2023)', 'author': None},\n {'title': 'HuggingGPT (Shen et al. 2023)', 'author': None},\n {'title': 'API-Bank', 'author': 'Li et al. 2023'},\n {'title': 'ChemCrow', 'author': 'Bran et al. 2023'},\n {'title': 'Boiko et al. (2023)', 'author': None},\n {'title': 'Generative Agents Simulation', 'author': 'Park, et al. 2023'},\n {'title': 'Park et al. 2023', 'author': None},\n {'title': 'Super Mario: How Nintendo Conquered America',\n  'author': 'Jeff Ryan'},\n {'title': 'Model-View-Controller (MVC) Explained', 'author': None},\n {'title': 'Python Game Development: Creating a Snake Game',\n  'author': 'Tim Ruscica'},\n {'title': 'A Study on Machine Learning Algorithms', 'author': 'John Smith'},\n {'title': 'Deep Learning Techniques for Image Recognition',\n  'author': 'Jane Doe'},\n {'title': 'Natural Language Processing: A Comprehensive Review',\n  'author': None},\n {'title': 'Chain of thought prompting elicits reasoning in large language models.',\n  'author': 'Wei et al.'},\n {'title': 'Tree of Thoughts: Deliberate Problem Solving with Large Language Models.',\n  'author': 'Yao et al.'},\n {'title': 'Chain of Hindsight Aligns Language Models with Feedback',\n  'author': 'Liu et al.'},\n {'title': 'LLM+P: Empowering Large Language Models with Optimal Planning Proficiency',\n  'author': 'Liu et al.'},\n {'title': 'ReAct: Synergizing reasoning and acting in language models.',\n  'author': 'Yao et al.'},\n {'title': 'Reflexion: an autonomous agent with dynamic memory and self-reflection',\n  'author': 'Shinn & Labash'},\n {'title': 'In-context Reinforcement Learning with Algorithm Distillation',\n  'author': 'Laskin et al.'},\n {'title': 'MRKL Systems A modular, neuro-symbolic architecture that combines large language models, external knowledge sources and discrete reasoning.',\n  'author': 'Karpas et al.'},\n {'title': 'API-Bank: A Benchmark for Tool-Augmented LLMs',\n  'author': 'Li et al.'},\n {'title': 'HuggingGPT: Solving AI Tasks with ChatGPT and its Friends in HuggingFace',\n  'author': 'Shen et al.'},\n {'title': 'ChemCrow: Augmenting large-language models with chemistry tools.',\n  'author': 'Bran et al.'},\n {'title': 'Emergent autonomous scientific research capabilities of large language models.',\n  'author': 'Boiko et al.'},\n {'title': 'Generative Agents: Interactive Simulacra of Human Behavior.',\n  'author': 'Joon Sung Park, et al.'}]"
     },
     "execution_count": 53,
     "metadata": {},
     "output_type": "execute_result"
    }
   ],
   "source": [
    "chain.invoke(doc.page_content)"
   ]
  },
  {
   "cell_type": "code",
   "execution_count": null,
   "id": "68cb460a-2b56-42be-acf6-4f61e40027f4",
   "metadata": {},
   "outputs": [],
   "source": []
  }
 ],
 "metadata": {
  "kernelspec": {
   "display_name": "Python 3 (ipykernel)",
   "language": "python",
   "name": "python3"
  },
  "language_info": {
   "codemirror_mode": {
    "name": "ipython",
    "version": 3
   },
   "file_extension": ".py",
   "mimetype": "text/x-python",
   "name": "python",
   "nbconvert_exporter": "python",
   "pygments_lexer": "ipython3",
   "version": "3.9.6"
  }
 },
 "nbformat": 4,
 "nbformat_minor": 5
}
